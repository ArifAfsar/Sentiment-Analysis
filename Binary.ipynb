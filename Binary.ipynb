{
 "cells": [
  {
   "cell_type": "code",
   "execution_count": 1,
   "metadata": {},
   "outputs": [],
   "source": [
    "import matplotlib as mpl\n",
    "import matplotlib.pyplot as plt\n",
    "import os\n",
    "import re\n",
    "import shutil\n",
    "import string\n",
    "import tensorflow as tf\n",
    "from tensorflow.keras import regularizers\n",
    "\n",
    "from tensorflow.keras import layers\n",
    "from tensorflow.keras import losses\n",
    "\n",
    "from collections import Counter\n",
    "\n",
    "\n",
    "import pandas as pd\n",
    "import numpy as np\n",
    "import h5py\n",
    "\n",
    "import sklearn\n",
    "\n",
    "from sklearn.model_selection import train_test_split\n",
    "from sklearn.metrics import classification_report\n",
    "\n",
    "from tensorflow.keras import preprocessing\n",
    "from tensorflow.keras.models import load_model\n",
    "from tensorflow.keras.preprocessing.text import Tokenizer\n",
    "from tensorflow.keras.preprocessing.sequence import pad_sequences\n",
    "\n",
    "\n",
    "import seaborn as sns\n",
    "\n",
    "import pydot\n",
    "\n"
   ]
  },
  {
   "cell_type": "code",
   "execution_count": 2,
   "metadata": {},
   "outputs": [
    {
     "name": "stdout",
     "output_type": "stream",
     "text": [
      "2.1.0\n"
     ]
    }
   ],
   "source": [
    "print(tf.__version__)\n"
   ]
  },
  {
   "cell_type": "code",
   "execution_count": 3,
   "metadata": {},
   "outputs": [
    {
     "name": "stdout",
     "output_type": "stream",
     "text": [
      "Please install GPU version of TF\n"
     ]
    }
   ],
   "source": [
    "if tf.config.list_physical_devices('GPU'): \n",
    "    print('Default GPU Device:{}'.format(tf.config.list_physical_devices('GPU')))\n",
    "\n",
    "else:\n",
    "    print(\"Please install GPU version of TF\")"
   ]
  },
  {
   "cell_type": "code",
   "execution_count": 4,
   "metadata": {},
   "outputs": [],
   "source": [
    "\n",
    "\n",
    "\n",
    "def clean_text(text ): \n",
    "    delete_dict = {sp_character: '' for sp_character in string.punctuation} \n",
    "    delete_dict[' '] = ' ' \n",
    "    table = str.maketrans(delete_dict)\n",
    "    text1 = text.translate(table)\n",
    "  \n",
    "    textArr= text1.split()\n",
    "    text2 = ' '.join([w for w in textArr if ( not w.isdigit() and  ( not w.isdigit() and len(w)>2))]) \n",
    "    \n",
    "    return text2.lower()\n",
    "\n"
   ]
  },
  {
   "cell_type": "code",
   "execution_count": 5,
   "metadata": {},
   "outputs": [
    {
     "name": "stdout",
     "output_type": "stream",
     "text": [
      "   Unnamed: 0  rating  verified   reviewTime      reviewerID   productID  \\\n",
      "0           0     5.0      True  10 20, 2014  A1D4G1SNUZWQOT  7106116521   \n",
      "1           1     2.0      True  09 28, 2014  A3DDWDH9PX2YX2  7106116521   \n",
      "2           2     4.0     False  08 25, 2014  A2MWC41EW7XL15  7106116521   \n",
      "3           3     2.0      True  08 24, 2014  A2UH2QQ275NV45  7106116521   \n",
      "4           4     3.0     False  07 27, 2014   A89F3LQADZBS5  7106116521   \n",
      "5           5     5.0      True  07 19, 2014  A29HLOUW0NS0EH  7106116521   \n",
      "6           6     4.0      True  05 31, 2014   A7QS961ROI6E0  7106116521   \n",
      "7           7     3.0      True  09 22, 2013  A1BB77SEBQT8VX  B00007GDFV   \n",
      "8           8     3.0      True  07 17, 2013   AHWOW7D1ABO9C  B00007GDFV   \n",
      "9           9     3.0      True  04 13, 2013   AKS3GULZE0HFC  B00007GDFV   \n",
      "\n",
      "                                          reviewText  \\\n",
      "0                             Exactly what I needed.   \n",
      "1  I agree with the other review, the opening is ...   \n",
      "2  Love these... I am going to order another pack...   \n",
      "3                                too tiny an opening   \n",
      "4                                               Okay   \n",
      "5                             Exactly what I wanted.   \n",
      "6  These little plastic backs work great.  No mor...   \n",
      "7  mother - in - law wanted it as a present for h...   \n",
      "8  Item is of good quality. Looks great, too. But...   \n",
      "9  I had used my last el-cheapo fake leather ciga...   \n",
      "\n",
      "                                             summary  unixReviewTime  \n",
      "0                             perfect replacements!!      1413763200  \n",
      "1  I agree with the other review, the opening is ...      1411862400  \n",
      "2                                My New 'Friends' !!      1408924800  \n",
      "3                                          Two Stars      1408838400  \n",
      "4                                        Three Stars      1406419200  \n",
      "5                                         Five Stars      1405728000  \n",
      "6                                       Works great!      1401494400  \n",
      "7                                bought as a present      1379808000  \n",
      "8                          Buxton heiress collection      1374019200  \n",
      "9                     Top Clasp Broke Within 3 days!      1365811200  \n",
      "775076\n",
      "Unique Products\n",
      "174735\n",
      "Unique Users\n",
      "686275\n"
     ]
    }
   ],
   "source": [
    "review_data= pd.read_csv(r\"C:\\Users\\User\\Desktop\\TextClassificationLSTMTensorFlow-master\\AMAZON_FASHION.csv\")\n",
    "print(review_data.head(10))\n",
    "print(len(review_data))\n",
    "print('Unique Products')\n",
    "print(len(review_data.groupby('productID')))\n",
    "print('Unique Users')\n",
    "print(len(review_data.groupby('reviewerID')))"
   ]
  },
  {
   "cell_type": "code",
   "execution_count": 6,
   "metadata": {},
   "outputs": [
    {
     "name": "stdout",
     "output_type": "stream",
     "text": [
      "-------Dataset --------\n",
      "5.0    389023\n",
      "4.0    134842\n",
      "1.0     99496\n",
      "3.0     90633\n",
      "2.0     61078\n",
      "Name: rating, dtype: int64\n",
      "775072\n",
      "-------------------------\n",
      "Train Max Sentence Length :1602\n"
     ]
    }
   ],
   "source": [
    "review_data.dropna(axis = 0, how ='any',inplace=True) \n",
    "\n",
    "\n",
    "\n",
    "\n",
    "\n",
    "\n",
    "review_data['reviewText'] = review_data['reviewText'].apply(clean_text)\n",
    "review_data['Num_words_text'] = review_data['reviewText'].apply(lambda x:len(str(x).split())) \n",
    "\n",
    "print('-------Dataset --------')\n",
    "print(review_data['rating'].value_counts())\n",
    "print(len(review_data))\n",
    "print('-------------------------')\n",
    "max_review_data_sentence_length  = review_data['Num_words_text'].max()\n",
    "\n",
    "print('Train Max Sentence Length :'+str(max_review_data_sentence_length))\n",
    "\n",
    "\n",
    "\n"
   ]
  },
  {
   "cell_type": "code",
   "execution_count": 7,
   "metadata": {},
   "outputs": [
    {
     "data": {
      "text/plain": [
       "count    775072.000000\n",
       "mean         23.499742\n",
       "std          29.454636\n",
       "min           0.000000\n",
       "25%           7.000000\n",
       "50%          15.000000\n",
       "75%          28.000000\n",
       "max        1602.000000\n",
       "Name: Num_words_text, dtype: float64"
      ]
     },
     "execution_count": 7,
     "metadata": {},
     "output_type": "execute_result"
    }
   ],
   "source": [
    "review_data['Num_words_text'].describe()"
   ]
  },
  {
   "cell_type": "code",
   "execution_count": 8,
   "metadata": {},
   "outputs": [
    {
     "data": {
      "text/plain": [
       "<matplotlib.axes._subplots.AxesSubplot at 0x245a0bf9088>"
      ]
     },
     "execution_count": 8,
     "metadata": {},
     "output_type": "execute_result"
    },
    {
     "data": {
      "image/png": "[encoded data removed]",
      "text/plain": [
       "<Figure size 432x288 with 1 Axes>"
      ]
     },
     "metadata": {},
     "output_type": "display_data"
    }
   ],
   "source": [
    "sns.set(style=\"whitegrid\")\n",
    "sns.boxplot(x=review_data['Num_words_text'])"
   ]
  },
  {
   "cell_type": "code",
   "execution_count": 9,
   "metadata": {},
   "outputs": [
    {
     "name": "stdout",
     "output_type": "stream",
     "text": [
      "No of Short reviews\n",
      "281480\n",
      "No of Long reviews\n",
      "19233\n"
     ]
    }
   ],
   "source": [
    "mask = (review_data['Num_words_text'] < 100) & (review_data['Num_words_text'] >=20)\n",
    "df_short_reviews = review_data[mask]\n",
    "print('No of Short reviews')\n",
    "print(len(df_short_reviews))\n",
    "\n",
    "mask = review_data['Num_words_text'] >= 100\n",
    "df_long_reviews = review_data[mask]\n",
    "print('No of Long reviews')\n",
    "print(len(df_long_reviews))"
   ]
  },
  {
   "cell_type": "code",
   "execution_count": 10,
   "metadata": {},
   "outputs": [
    {
     "name": "stdout",
     "output_type": "stream",
     "text": [
      "99\n"
     ]
    }
   ],
   "source": [
    "print(df_short_reviews['Num_words_text'].max())"
   ]
  },
  {
   "cell_type": "code",
   "execution_count": 11,
   "metadata": {},
   "outputs": [],
   "source": [
    "def get_sentiment(rating):\n",
    "    if rating == 5 or rating == 4 or rating ==3:\n",
    "        return 1\n",
    "    else:\n",
    "        return 0\n",
    "    "
   ]
  },
  {
   "cell_type": "code",
   "execution_count": 12,
   "metadata": {},
   "outputs": [
    {
     "name": "stdout",
     "output_type": "stream",
     "text": [
      "94768\n",
      "5.0    47104\n",
      "4.0    19132\n",
      "3.0    11596\n",
      "1.0     9406\n",
      "2.0     7530\n",
      "Name: rating, dtype: int64\n",
      "Train data\n",
      "1    77832\n",
      "0    16936\n",
      "Name: sentiment, dtype: int64\n",
      "433782\n",
      "5.0    225104\n",
      "4.0     75616\n",
      "1.0     51790\n",
      "3.0     48706\n",
      "2.0     32566\n",
      "Name: rating, dtype: int64\n",
      "Test data\n",
      "1    349426\n",
      "0     84356\n",
      "Name: sentiment, dtype: int64\n"
     ]
    }
   ],
   "source": [
    "\n",
    "filtered_data = df_short_reviews.groupby('productID').filter(lambda x: len(x) >= 20)\n",
    "print(len(filtered_data))\n",
    "print(filtered_data ['rating'].value_counts())\n",
    "filtered_data ['sentiment'] = filtered_data ['rating'].apply(get_sentiment)\n",
    "\n",
    "train_data = filtered_data[['reviewText','sentiment']]\n",
    "print('Train data')\n",
    "print(train_data['sentiment'].value_counts())\n",
    "\n",
    "\n",
    "mask = review_data['Num_words_text'] < 100 \n",
    "df_short_reviews = review_data[mask]\n",
    "filtered_data = df_short_reviews.groupby('productID').filter(lambda x: len(x) >= 10)\n",
    "print(len(filtered_data))\n",
    "print(filtered_data ['rating'].value_counts())\n",
    "filtered_data ['sentiment'] = filtered_data ['rating'].apply(get_sentiment)\n",
    "\n",
    "test_data = filtered_data[['reviewText','sentiment']]\n",
    "print('Test data')\n",
    "print(test_data['sentiment'].value_counts())\n",
    "\n",
    "\n"
   ]
  },
  {
   "cell_type": "code",
   "execution_count": 13,
   "metadata": {},
   "outputs": [
    {
     "data": {
      "text/plain": [
       "1    77832\n",
       "0    16936\n",
       "Name: sentiment, dtype: int64"
      ]
     },
     "execution_count": 13,
     "metadata": {},
     "output_type": "execute_result"
    }
   ],
   "source": [
    "train_data['sentiment'].value_counts()"
   ]
  },
  {
   "cell_type": "code",
   "execution_count": 14,
   "metadata": {},
   "outputs": [
    {
     "name": "stdout",
     "output_type": "stream",
     "text": [
      "Train data len:47384\n",
      "Class distributionCounter({1: 38916, 0: 8468})\n",
      "Valid data len:47384\n",
      "Class distributionCounter({1: 38916, 0: 8468})\n"
     ]
    }
   ],
   "source": [
    "X_train, X_valid, y_train, y_valid = train_test_split(train_data['reviewText'].tolist(),\\\n",
    "                                                      train_data['sentiment'].tolist(),\\\n",
    "                                                      test_size=0.5,\\\n",
    "                                                      stratify = train_data['sentiment'].tolist(),\\\n",
    "                                                      random_state=0)\n",
    "\n",
    "\n",
    "print('Train data len:'+str(len(X_train)))\n",
    "print('Class distribution'+str(Counter(y_train)))\n",
    "print('Valid data len:'+str(len(X_valid)))\n",
    "print('Class distribution'+ str(Counter(y_valid)))"
   ]
  },
  {
   "cell_type": "code",
   "execution_count": 15,
   "metadata": {},
   "outputs": [
    {
     "name": "stdout",
     "output_type": "stream",
     "text": [
      "[[26099, 111, 11, 18]]\n"
     ]
    }
   ],
   "source": [
    "num_words = 50000\n",
    "\n",
    "tokenizer = Tokenizer(num_words=num_words,oov_token=\"unk\")\n",
    "tokenizer.fit_on_texts(X_train)\n",
    "\n",
    "\n",
    "print(str(tokenizer.texts_to_sequences(['xyz how are you'])))\n",
    "\n",
    "   \n"
   ]
  },
  {
   "cell_type": "code",
   "execution_count": 16,
   "metadata": {
    "scrolled": true
   },
   "outputs": [
    {
     "name": "stderr",
     "output_type": "stream",
     "text": [
      "C:\\Users\\User\\anaconda3\\lib\\site-packages\\ipykernel_launcher.py:1: VisibleDeprecationWarning: Creating an ndarray from ragged nested sequences (which is a list-or-tuple of lists-or-tuples-or ndarrays with different lengths or shapes) is deprecated. If you meant to do this, you must specify 'dtype=object' when creating the ndarray\n",
      "  \"\"\"Entry point for launching an IPython kernel.\n",
      "C:\\Users\\User\\anaconda3\\lib\\site-packages\\ipykernel_launcher.py:2: VisibleDeprecationWarning: Creating an ndarray from ragged nested sequences (which is a list-or-tuple of lists-or-tuples-or ndarrays with different lengths or shapes) is deprecated. If you meant to do this, you must specify 'dtype=object' when creating the ndarray\n",
      "  \n",
      "C:\\Users\\User\\anaconda3\\lib\\site-packages\\ipykernel_launcher.py:3: VisibleDeprecationWarning: Creating an ndarray from ragged nested sequences (which is a list-or-tuple of lists-or-tuples-or ndarrays with different lengths or shapes) is deprecated. If you meant to do this, you must specify 'dtype=object' when creating the ndarray\n",
      "  This is separate from the ipykernel package so we can avoid doing imports until\n"
     ]
    },
    {
     "name": "stdout",
     "output_type": "stream",
     "text": [
      "Train data len:47384\n",
      "Class distributionCounter({1: 38916, 0: 8468})\n",
      "Validation data len:47384\n",
      "Class distributionCounter({1: 38916, 0: 8468})\n",
      "Test data len:433782\n",
      "Class distributionCounter({1: 349426, 0: 84356})\n"
     ]
    }
   ],
   "source": [
    "\n",
    "\n",
    "\n",
    "x_train = np.array( tokenizer.texts_to_sequences(X_train) )\n",
    "x_valid = np.array( tokenizer.texts_to_sequences(X_valid) )\n",
    "x_test  = np.array( tokenizer.texts_to_sequences(test_data['reviewText'].tolist()) )\n",
    "\n",
    "\n",
    "\n",
    "x_train = pad_sequences(x_train, padding='post', maxlen=100)\n",
    "x_valid = pad_sequences(x_valid, padding='post', maxlen=100)\n",
    "x_test = pad_sequences(x_test, padding='post', maxlen=100)\n",
    "\n",
    "\n",
    "\n",
    "train_labels = np.asarray(y_train )\n",
    "valid_labels = np.asarray( y_valid)\n",
    "\n",
    "test_labels = np.asarray(test_data['sentiment'].tolist())\n",
    "\n",
    "print('Train data len:'+str(len(x_train)))\n",
    "print('Class distribution'+str(Counter(train_labels)))\n",
    "\n",
    "print('Validation data len:'+str(len(x_valid)))\n",
    "print('Class distribution'+str(Counter(valid_labels)))\n",
    "\n",
    "print('Test data len:'+str(len(x_test)))\n",
    "print('Class distribution'+str(Counter(test_labels)))\n",
    "\n",
    "\n",
    "train_ds = tf.data.Dataset.from_tensor_slices((x_train,train_labels))\n",
    "valid_ds = tf.data.Dataset.from_tensor_slices((x_valid,valid_labels))\n",
    "test_ds = tf.data.Dataset.from_tensor_slices((x_test,test_labels))\n"
   ]
  },
  {
   "cell_type": "code",
   "execution_count": 17,
   "metadata": {},
   "outputs": [
    {
     "name": "stdout",
     "output_type": "stream",
     "text": [
      "======Train dataset ====\n",
      "tf.Tensor(\n",
      "[ 110   97   15  322  116  170  103   52  217    8   36  210  172 4619\n",
      " 3581    3 2038   62  224 1343 1378    3  503  299  782   30  106   77\n",
      "  123    0    0    0    0    0    0    0    0    0    0    0    0    0\n",
      "    0    0    0    0    0    0    0    0    0    0    0    0    0    0\n",
      "    0    0    0    0    0    0    0    0    0    0    0    0    0    0\n",
      "    0    0    0    0    0    0    0    0    0    0    0    0    0    0\n",
      "    0    0    0    0    0    0    0    0    0    0    0    0    0    0\n",
      "    0    0], shape=(100,), dtype=int32) tf.Tensor(1, shape=(), dtype=int32)\n",
      "======Validation dataset ====\n",
      "tf.Tensor(\n",
      "[  22   65 4061    4  562  189   14   46   70  901   54   22    3   58\n",
      "   22   25   43  331   99  153   82    3  643   15   11 1215 2888    4\n",
      "  134 1430    8  286    9   76  900   67   22   77   13  217    0    0\n",
      "    0    0    0    0    0    0    0    0    0    0    0    0    0    0\n",
      "    0    0    0    0    0    0    0    0    0    0    0    0    0    0\n",
      "    0    0    0    0    0    0    0    0    0    0    0    0    0    0\n",
      "    0    0    0    0    0    0    0    0    0    0    0    0    0    0\n",
      "    0    0], shape=(100,), dtype=int32) tf.Tensor(1, shape=(), dtype=int32)\n",
      "======Test dataset ====\n",
      "tf.Tensor(\n",
      "[209  57 248   0   0   0   0   0   0   0   0   0   0   0   0   0   0   0\n",
      "   0   0   0   0   0   0   0   0   0   0   0   0   0   0   0   0   0   0\n",
      "   0   0   0   0   0   0   0   0   0   0   0   0   0   0   0   0   0   0\n",
      "   0   0   0   0   0   0   0   0   0   0   0   0   0   0   0   0   0   0\n",
      "   0   0   0   0   0   0   0   0   0   0   0   0   0   0   0   0   0   0\n",
      "   0   0   0   0   0   0   0   0   0   0], shape=(100,), dtype=int32) tf.Tensor(1, shape=(), dtype=int32)\n"
     ]
    }
   ],
   "source": [
    "count =0\n",
    "print('======Train dataset ====')\n",
    "for value,label in train_ds:\n",
    "    count += 1\n",
    "    print(value,label)\n",
    "    if count==1:\n",
    "        break\n",
    "count =0\n",
    "print('======Validation dataset ====')\n",
    "for value,label in valid_ds:\n",
    "    count += 1\n",
    "    print(value,label)\n",
    "    if count==1:\n",
    "        break\n",
    "count =0\n",
    "print('======Test dataset ====')\n",
    "for value,label in test_ds:\n",
    "    count += 1\n",
    "    print(value,label)\n",
    "    if count==1:\n",
    "        break  "
   ]
  },
  {
   "cell_type": "code",
   "execution_count": 18,
   "metadata": {
    "scrolled": true
   },
   "outputs": [
    {
     "name": "stdout",
     "output_type": "stream",
     "text": [
      "Model: \"sequential\"\n",
      "_________________________________________________________________\n",
      "Layer (type)                 Output Shape              Param #   \n",
      "=================================================================\n",
      "embedding (Embedding)        (None, 100, 16)           800016    \n",
      "_________________________________________________________________\n",
      "dropout (Dropout)            (None, 100, 16)           0         \n",
      "_________________________________________________________________\n",
      "lstm (LSTM)                  (None, 100, 16)           2112      \n",
      "_________________________________________________________________\n",
      "flatten (Flatten)            (None, 1600)              0         \n",
      "_________________________________________________________________\n",
      "dense (Dense)                (None, 512)               819712    \n",
      "_________________________________________________________________\n",
      "dropout_1 (Dropout)          (None, 512)               0         \n",
      "_________________________________________________________________\n",
      "dense_1 (Dense)              (None, 8)                 4104      \n",
      "_________________________________________________________________\n",
      "dropout_2 (Dropout)          (None, 8)                 0         \n",
      "_________________________________________________________________\n",
      "dense_2 (Dense)              (None, 1)                 9         \n",
      "=================================================================\n",
      "Total params: 1,625,953\n",
      "Trainable params: 1,625,953\n",
      "Non-trainable params: 0\n",
      "_________________________________________________________________\n"
     ]
    }
   ],
   "source": [
    "max_features =50000\n",
    "embedding_dim =16\n",
    "sequence_length = 100\n",
    "\n",
    "model = tf.keras.Sequential()\n",
    "model.add(tf.keras.layers.Embedding(max_features +1, embedding_dim, input_length=sequence_length,\\\n",
    "                                    embeddings_regularizer = regularizers.l2(0.005))) \n",
    "model.add(tf.keras.layers.Dropout(0.4))\n",
    "\n",
    "model.add(tf.keras.layers.LSTM(embedding_dim,dropout=0.2, recurrent_dropout=0.2,return_sequences=True,\\\n",
    "                                                             kernel_regularizer=regularizers.l2(0.005),\\\n",
    "                                                             bias_regularizer=regularizers.l2(0.005)))\n",
    "\n",
    "model.add(tf.keras.layers.Flatten())\n",
    "\n",
    "model.add(tf.keras.layers.Dense(512, activation='relu',\\\n",
    "                                kernel_regularizer=regularizers.l2(0.001),\\\n",
    "                                bias_regularizer=regularizers.l2(0.001),))\n",
    "model.add(tf.keras.layers.Dropout(0.4))\n",
    "\n",
    "model.add(tf.keras.layers.Dense(8, activation='relu',\\\n",
    "                                kernel_regularizer=regularizers.l2(0.001),\\\n",
    "                                bias_regularizer=regularizers.l2(0.001),))\n",
    "model.add(tf.keras.layers.Dropout(0.4))\n",
    "\n",
    "\n",
    "model.add(tf.keras.layers.Dense(1,activation='sigmoid'))\n",
    "                               \n",
    "\n",
    "\n",
    "\n",
    "model.summary()\n",
    "model.compile(loss=tf.keras.losses.BinaryCrossentropy(),optimizer=tf.keras.optimizers.Adam(1e-3),metrics=[tf.keras.metrics.BinaryAccuracy()])"
   ]
  },
  {
   "cell_type": "code",
   "execution_count": 19,
   "metadata": {},
   "outputs": [
    {
     "data": {
      "image/png": "[encoded data removed]",
      "text/plain": [
       "<IPython.core.display.Image object>"
      ]
     },
     "execution_count": 19,
     "metadata": {},
     "output_type": "execute_result"
    }
   ],
   "source": [
    "tf.keras.utils.plot_model(model, \"multi_input_and_output_model.png\", show_shapes=True)"
   ]
  },
  {
   "cell_type": "code",
   "execution_count": 20,
   "metadata": {
    "scrolled": false
   },
   "outputs": [
    {
     "name": "stdout",
     "output_type": "stream",
     "text": [
      "Train for 47 steps, validate for 47 steps\n",
      "Epoch 1/10\n"
     ]
    },
    {
     "name": "stderr",
     "output_type": "stream",
     "text": [
      "C:\\Users\\User\\anaconda3\\lib\\site-packages\\tensorflow_core\\python\\framework\\indexed_slices.py:433: UserWarning: Converting sparse IndexedSlices to a dense Tensor of unknown shape. This may consume a large amount of memory.\n",
      "  \"Converting sparse IndexedSlices to a dense Tensor of unknown shape. \"\n",
      "C:\\Users\\User\\anaconda3\\lib\\site-packages\\tensorflow_core\\python\\framework\\indexed_slices.py:433: UserWarning: Converting sparse IndexedSlices to a dense Tensor of unknown shape. This may consume a large amount of memory.\n",
      "  \"Converting sparse IndexedSlices to a dense Tensor of unknown shape. \"\n"
     ]
    },
    {
     "name": "stdout",
     "output_type": "stream",
     "text": [
      "47/47 [==============================] - 19s 410ms/step - loss: 1.9973 - binary_accuracy: 0.8156 - val_loss: 0.6757 - val_binary_accuracy: 0.8213\n",
      "Epoch 2/10\n",
      "47/47 [==============================] - 16s 331ms/step - loss: 0.5689 - binary_accuracy: 0.8451 - val_loss: 0.4556 - val_binary_accuracy: 0.8823\n",
      "Epoch 3/10\n",
      "47/47 [==============================] - 16s 334ms/step - loss: 0.4728 - binary_accuracy: 0.8789 - val_loss: 0.4197 - val_binary_accuracy: 0.8907\n",
      "Epoch 4/10\n",
      "47/47 [==============================] - 17s 362ms/step - loss: 0.4388 - binary_accuracy: 0.8857 - val_loss: 0.3978 - val_binary_accuracy: 0.8935\n",
      "Epoch 5/10\n",
      "47/47 [==============================] - 17s 368ms/step - loss: 0.4173 - binary_accuracy: 0.8902 - val_loss: 0.3858 - val_binary_accuracy: 0.8932\n",
      "Epoch 6/10\n",
      "47/47 [==============================] - 17s 367ms/step - loss: 0.4063 - binary_accuracy: 0.8903 - val_loss: 0.3781 - val_binary_accuracy: 0.8925\n",
      "Epoch 7/10\n",
      "47/47 [==============================] - 17s 371ms/step - loss: 0.3933 - binary_accuracy: 0.8902 - val_loss: 0.3695 - val_binary_accuracy: 0.8939\n",
      "Epoch 8/10\n",
      "47/47 [==============================] - 17s 353ms/step - loss: 0.3861 - binary_accuracy: 0.8897 - val_loss: 0.3608 - val_binary_accuracy: 0.8957\n",
      "Epoch 9/10\n",
      "47/47 [==============================] - 17s 364ms/step - loss: 0.3766 - binary_accuracy: 0.8931 - val_loss: 0.3543 - val_binary_accuracy: 0.8961\n",
      "Epoch 10/10\n",
      "47/47 [==============================] - 18s 383ms/step - loss: 0.3726 - binary_accuracy: 0.8927 - val_loss: 0.3521 - val_binary_accuracy: 0.8950\n"
     ]
    }
   ],
   "source": [
    "epochs = 10\n",
    "\n",
    "history = model.fit(train_ds.shuffle(5000).batch(1024),\n",
    "                    epochs= epochs ,\n",
    "                    validation_data=valid_ds.batch(1024),\n",
    "                    verbose=1)"
   ]
  },
  {
   "cell_type": "code",
   "execution_count": 21,
   "metadata": {},
   "outputs": [
    {
     "data": {
      "text/plain": [
       "{'loss': [2.016962261492188,\n",
       "  0.5701498828303788,\n",
       "  0.473749247154593,\n",
       "  0.43902950564208476,\n",
       "  0.41798973840252684,\n",
       "  0.40743930224488356,\n",
       "  0.392567040080781,\n",
       "  0.38685472337514915,\n",
       "  0.3772741611163278,\n",
       "  0.3729650419184672],\n",
       " 'binary_accuracy': [0.81557065,\n",
       "  0.8451165,\n",
       "  0.8788832,\n",
       "  0.8856787,\n",
       "  0.8902161,\n",
       "  0.8902794,\n",
       "  0.8902372,\n",
       "  0.8897096,\n",
       "  0.89310735,\n",
       "  0.8927275],\n",
       " 'val_loss': [0.6756818903253433,\n",
       "  0.4556102131275421,\n",
       "  0.4197473684523968,\n",
       "  0.3978485173367439,\n",
       "  0.3857804720706128,\n",
       "  0.3780680520737425,\n",
       "  0.3694925117999949,\n",
       "  0.3607690993775713,\n",
       "  0.35428157258541026,\n",
       "  0.35212775113734796],\n",
       " 'val_binary_accuracy': [0.8212899,\n",
       "  0.88232315,\n",
       "  0.8906804,\n",
       "  0.8935295,\n",
       "  0.8932129,\n",
       "  0.89247423,\n",
       "  0.89388824,\n",
       "  0.895661,\n",
       "  0.89612526,\n",
       "  0.8950279]}"
      ]
     },
     "execution_count": 21,
     "metadata": {},
     "output_type": "execute_result"
    }
   ],
   "source": [
    "history.history\n"
   ]
  },
  {
   "cell_type": "code",
   "execution_count": 22,
   "metadata": {},
   "outputs": [
    {
     "data": {
      "image/png": "[encoded data removed]",
      "text/plain": [
       "<Figure size 432x288 with 1 Axes>"
      ]
     },
     "metadata": {},
     "output_type": "display_data"
    }
   ],
   "source": [
    "\n",
    "plt.plot(history.history['loss'], label=' training data')\n",
    "plt.plot(history.history['val_loss'], label='validation data')\n",
    "plt.title('Loss for Text Classification')\n",
    "plt.ylabel('Loss value')\n",
    "plt.xlabel('No. epoch')\n",
    "plt.legend(loc=\"upper left\")\n",
    "plt.show()"
   ]
  },
  {
   "cell_type": "code",
   "execution_count": 23,
   "metadata": {},
   "outputs": [
    {
     "data": {
      "image/png": "[encoded data removed]",
      "text/plain": [
       "<Figure size 432x288 with 1 Axes>"
      ]
     },
     "metadata": {},
     "output_type": "display_data"
    }
   ],
   "source": [
    "\n",
    "\n",
    "plt.plot(history.history['binary_accuracy'], label=' training data')\n",
    "plt.plot(history.history['val_binary_accuracy'], label='validation data')\n",
    "plt.title('Accuracy for Text Classification')\n",
    "plt.ylabel('Accuracy value')\n",
    "plt.xlabel('No. epoch')\n",
    "plt.legend(loc=\"upper left\")\n",
    "plt.show()\n"
   ]
  },
  {
   "cell_type": "code",
   "execution_count": 24,
   "metadata": {},
   "outputs": [],
   "source": [
    "model.save(\"tf_lstmmodel.h5\") \n",
    "json_string = tokenizer.to_json()\n"
   ]
  },
  {
   "cell_type": "code",
   "execution_count": 25,
   "metadata": {},
   "outputs": [],
   "source": [
    "import json\n",
    "with open('tokenizer.json', 'w') as outfile:\n",
    "    json.dump(json_string, outfile)\n",
    "    "
   ]
  },
  {
   "cell_type": "code",
   "execution_count": 26,
   "metadata": {},
   "outputs": [],
   "source": [
    "valid_predict= model.predict(x_valid)"
   ]
  },
  {
   "cell_type": "code",
   "execution_count": 27,
   "metadata": {},
   "outputs": [
    {
     "name": "stdout",
     "output_type": "stream",
     "text": [
      "[[0.99811196]\n",
      " [0.38557202]\n",
      " [0.97142076]\n",
      " [0.9321328 ]\n",
      " [0.44591576]\n",
      " [0.74743897]\n",
      " [0.9997404 ]\n",
      " [0.98170197]\n",
      " [0.98448354]\n",
      " [0.9746494 ]]\n"
     ]
    }
   ],
   "source": [
    "print(valid_predict[:10])"
   ]
  },
  {
   "cell_type": "code",
   "execution_count": 28,
   "metadata": {},
   "outputs": [],
   "source": [
    "def plot_roc(name, labels, predictions, **kwargs):\n",
    "    fp, tp, thresholds = sklearn.metrics.roc_curve(labels, predictions)\n",
    "    plt.plot(fp, tp, label=name, linewidth=2, **kwargs)\n",
    "    plt.xlabel('False positives Rate')\n",
    "    plt.ylabel('True positives Rate')\n",
    "    plt.xlim([-0.03, 1.0])\n",
    "    plt.ylim([0.0, 1.03])\n",
    "    plt.grid(True)\n",
    "    thresholdsLength = len(thresholds)\n",
    "    thresholds_every = 1000\n",
    "    colorMap = plt.get_cmap('jet', thresholdsLength)\n",
    "    for i in range(0, thresholdsLength, thresholds_every):\n",
    "        threshold_value_with_max_four_decimals = str(thresholds[i])[:5]\n",
    "        plt.text(fp[i] - 0.03, tp[i] + 0.001, threshold_value_with_max_four_decimals, fontdict={'size': 15}, color=colorMap(i/thresholdsLength));\n",
    "\n",
    "    ax = plt.gca()\n",
    "    ax.set_aspect('equal')"
   ]
  },
  {
   "cell_type": "code",
   "execution_count": 29,
   "metadata": {},
   "outputs": [],
   "source": [
    "mpl.rcParams['figure.figsize'] = (16, 16)\n",
    "\n",
    "colors = plt.rcParams['axes.prop_cycle'].by_key()['color']"
   ]
  },
  {
   "cell_type": "code",
   "execution_count": 30,
   "metadata": {},
   "outputs": [
    {
     "data": {
      "text/plain": [
       "<matplotlib.legend.Legend at 0x2696869adc8>"
      ]
     },
     "execution_count": 30,
     "metadata": {},
     "output_type": "execute_result"
    },
    {
     "data": {
      "image/png": "[encoded data removed]",
      "text/plain": [
       "<Figure size 1152x1152 with 1 Axes>"
      ]
     },
     "metadata": {},
     "output_type": "display_data"
    }
   ],
   "source": [
    "plot_roc(\"Valid Baseline\", valid_labels, valid_predict, color=colors[0], linestyle='--')\n",
    "plt.legend(loc='lower right')"
   ]
  },
  {
   "cell_type": "code",
   "execution_count": 31,
   "metadata": {},
   "outputs": [],
   "source": [
    "with open('tokenizer.json') as json_file:\n",
    "    json_string = json.load(json_file)\n",
    "tokenizer1 = tf.keras.preprocessing.text.tokenizer_from_json(json_string)"
   ]
  },
  {
   "cell_type": "code",
   "execution_count": 32,
   "metadata": {},
   "outputs": [
    {
     "name": "stderr",
     "output_type": "stream",
     "text": [
      "C:\\Users\\User\\anaconda3\\lib\\site-packages\\ipykernel_launcher.py:1: VisibleDeprecationWarning: Creating an ndarray from ragged nested sequences (which is a list-or-tuple of lists-or-tuples-or ndarrays with different lengths or shapes) is deprecated. If you meant to do this, you must specify 'dtype=object' when creating the ndarray\n",
      "  \"\"\"Entry point for launching an IPython kernel.\n"
     ]
    }
   ],
   "source": [
    "x_test  = np.array( tokenizer.texts_to_sequences(test_data['reviewText'].tolist()) )\n",
    "x_test = pad_sequences(x_test, padding='post', maxlen=100)"
   ]
  },
  {
   "cell_type": "code",
   "execution_count": 33,
   "metadata": {},
   "outputs": [
    {
     "name": "stdout",
     "output_type": "stream",
     "text": [
      "Generate predictions for all samples\n"
     ]
    }
   ],
   "source": [
    "\n",
    "\n",
    "print(\"Generate predictions for all samples\")\n",
    "predictions = model.predict(x_test)\n",
    "\n"
   ]
  },
  {
   "cell_type": "code",
   "execution_count": 34,
   "metadata": {},
   "outputs": [
    {
     "name": "stderr",
     "output_type": "stream",
     "text": [
      "C:\\Users\\User\\anaconda3\\lib\\site-packages\\ipykernel_launcher.py:1: SettingWithCopyWarning: \n",
      "A value is trying to be set on a copy of a slice from a DataFrame.\n",
      "Try using .loc[row_indexer,col_indexer] = value instead\n",
      "\n",
      "See the caveats in the documentation: https://pandas.pydata.org/pandas-docs/stable/user_guide/indexing.html#returning-a-view-versus-a-copy\n",
      "  \"\"\"Entry point for launching an IPython kernel.\n",
      "C:\\Users\\User\\anaconda3\\lib\\site-packages\\ipykernel_launcher.py:2: SettingWithCopyWarning: \n",
      "A value is trying to be set on a copy of a slice from a DataFrame.\n",
      "Try using .loc[row_indexer,col_indexer] = value instead\n",
      "\n",
      "See the caveats in the documentation: https://pandas.pydata.org/pandas-docs/stable/user_guide/indexing.html#returning-a-view-versus-a-copy\n",
      "  \n",
      "C:\\Users\\User\\anaconda3\\lib\\site-packages\\ipykernel_launcher.py:3: SettingWithCopyWarning: \n",
      "A value is trying to be set on a copy of a slice from a DataFrame.\n",
      "Try using .loc[row_indexer,col_indexer] = value instead\n",
      "\n",
      "See the caveats in the documentation: https://pandas.pydata.org/pandas-docs/stable/user_guide/indexing.html#returning-a-view-versus-a-copy\n",
      "  This is separate from the ipykernel package so we can avoid doing imports until\n"
     ]
    }
   ],
   "source": [
    "test_data['pred_sentiment']= predictions\n",
    "test_data['pred_sentiment'] = np.where((test_data.pred_sentiment >= 0.78),1,test_data.pred_sentiment)\n",
    "test_data['pred_sentiment'] = np.where((test_data.pred_sentiment < 0.78),0,test_data.pred_sentiment)\n"
   ]
  },
  {
   "cell_type": "code",
   "execution_count": 39,
   "metadata": {},
   "outputs": [
    {
     "name": "stdout",
     "output_type": "stream",
     "text": [
      "              precision    recall  f1-score   support\n",
      "\n",
      "           0       0.69      0.80      0.74     84356\n",
      "           1       0.95      0.91      0.93    349426\n",
      "\n",
      "    accuracy                           0.89    433782\n",
      "   macro avg       0.82      0.85      0.84    433782\n",
      "weighted avg       0.90      0.89      0.89    433782\n",
      "\n"
     ]
    }
   ],
   "source": [
    "labels = [0, 1]\n",
    "    \n",
    "print(classification_report(test_data['sentiment'].tolist(),test_data['pred_sentiment'].tolist(),labels=labels))"
   ]
  },
  {
   "cell_type": "code",
   "execution_count": 18,
   "metadata": {},
   "outputs": [
    {
     "name": "stdout",
     "output_type": "stream",
     "text": [
      "[0 1 0 1 1 1 1 1 1 1 1 1 1 1 0 0 1 1 0 0 0 1 1 0 1 0 1 1 1 1 1 1 1 1 0 0 1\n",
      " 1 1 1 1 0 1 1 1 0 1 0 1 1 0 1 0 0 0 1 1 1 1 1 1 1 1 1 1 0 1 1 0 1 1 1 0 1\n",
      " 1 1 1 1 1 1 0 0 1 0 1 1 0 1 0 1 1 0 1 1 1 1 0 0 0 1 1 0 0 1 1 1 1 1 0 1 1\n",
      " 1 1 1 1 1 0 1 1 0 0 1 1 1 1 1 0 1 1 1 1 1 1 1 1 1 1 0 1 0 1 1 1 1 1 1 1 1\n",
      " 1 0 1 1 0 1 1 0 1 1 0 1 1 1 1 1 1 1 1 1 0 1 1 1 0 1 1 0 0 0 1 1 1 1 1 1 1\n",
      " 1 1 1 1 1 1 1 0 0 1 1 1 1 1 1]\n",
      "Accuracy: 0.66\n"
     ]
    }
   ],
   "source": [
    "from sklearn import metrics\n",
    "from sklearn.metrics import confusion_matrix\n",
    "from sklearn import svm\n",
    "from sklearn.model_selection import cross_val_score\n",
    "\n",
    "model1 = svm.SVC(kernel='linear',random_state= 42)\n",
    "model1.fit(x_train[:200],train_labels[:200])\n",
    "y_pred = model1.predict(x_valid[:200])\n",
    "print(y_pred)\n",
    "\n",
    "\n",
    "confusion_matrix(valid_labels[:200],y_pred)\n",
    "                 \n",
    "\n",
    "print(\"Accuracy:\",metrics.accuracy_score(valid_labels[:200],y_pred))"
   ]
  },
  {
   "cell_type": "code",
   "execution_count": null,
   "metadata": {},
   "outputs": [],
   "source": []
  }
 ],
 "metadata": {
  "kernelspec": {
   "display_name": "Python 3",
   "language": "python",
   "name": "python3"
  },
  "language_info": {
   "codemirror_mode": {
    "name": "ipython",
    "version": 3
   },
   "file_extension": ".py",
   "mimetype": "text/x-python",
   "name": "python",
   "nbconvert_exporter": "python",
   "pygments_lexer": "ipython3",
   "version": "3.7.6"
  }
 },
 "nbformat": 4,
 "nbformat_minor": 4
}
